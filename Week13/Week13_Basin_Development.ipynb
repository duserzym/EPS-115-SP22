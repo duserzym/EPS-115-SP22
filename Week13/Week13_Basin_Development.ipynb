{
 "cells": [
  {
   "cell_type": "markdown",
   "metadata": {},
   "source": [
    "# Problem set Week 13: Basin development"
   ]
  },
  {
   "cell_type": "markdown",
   "metadata": {},
   "source": [
    "<img src=\"Appal.jpg\">"
   ]
  },
  {
   "cell_type": "markdown",
   "metadata": {},
   "source": [
    "The Appalachian orogen is an excellent example of a continental margin that has undergone\n",
    "multiple basin development phases. These basin phases are: rift-related normal faulting, post-rift thermal subsidence, and compression-related flexural deformation and subsidence. Erosion over the past 250 Myr has denuded the Paleozoic basin-orogenic system.\n",
    "\n",
    "The creation of accommodation space over large length-scales is dominated by three processes:\n",
    "\n",
    "1. Extensional fault-controlled subsidence which is dependent on the initial thickness and\n",
    "density of the crust and lithosphere, the lithospheric geotherm, and the amount of\n",
    "uniform stretching, $\\beta$. This isostatic subsidence may occur on timescales of 10$^{5}$ yr.\n",
    "\n",
    "2. Thermal subsidence occurs when lithospheric thinning leads to upwelling of the asthenosphere\n",
    "and heating of the lithosphere, and these materials cool conductively as\n",
    "the lithospheric geotherm relaxes to the pre-stretching condition. Thermal subsidence\n",
    "depends critically on the amount of stretching, $\\beta$. Thermal subsidence rates decrease\n",
    "exponentially as heat flow decreases. For standard lithosphere, heat flow reaches $\\frac{1}{e}$ of its original value after $\\tau \\approx$ 50 Myr.\n",
    "\n",
    "3. Compression during orogenesis may lead to crustal shortening. Excess masses supported\n",
    "elastically by the lithosphere generate peripheral zones of accommodation space\n",
    "where the lithosphere is flexed downward."
   ]
  },
  {
   "cell_type": "markdown",
   "metadata": {},
   "source": [
    "<img src=\"appalachians_xsection_updated.png\">"
   ]
  },
  {
   "cell_type": "code",
   "execution_count": null,
   "metadata": {
    "tags": []
   },
   "outputs": [],
   "source": [
    "import numpy as np\n",
    "import matplotlib.pyplot as plt"
   ]
  },
  {
   "cell_type": "markdown",
   "metadata": {},
   "source": [
    "### Question 1"
   ]
  },
  {
   "cell_type": "markdown",
   "metadata": {},
   "source": [
    "Study Figure 1. Based solely on the geometry of stratigraphic units, write a one paragraph\n",
    "interpretation of the evolution of the basin in the markdown cell below. (Hint: Use words/phrases like ‘rift’, ‘drift’, ‘normal\n",
    "fault’, ‘isostasy’, ’extensional’, ‘compressional’, ‘tilt’, ‘heating’, ‘thermal subsidence’,\n",
    "‘flexural’, ‘bending’, ‘foreland’, ‘unconformity’, ‘uplift’, ‘erosion’, etc.) "
   ]
  },
  {
   "cell_type": "markdown",
   "metadata": {},
   "source": [
    "*Your answer*"
   ]
  },
  {
   "cell_type": "markdown",
   "metadata": {},
   "source": [
    "### Question 2"
   ]
  },
  {
   "cell_type": "markdown",
   "metadata": {},
   "source": [
    "Using the data that is within Figure 1, plot age decreasing to the right on the x-axis and accumulated thickness\n",
    "of sediment increasing downward on the y-axis. Use the stratigraphic thickness data from G’ [420\n",
    "km] with the corresponding ages (Fig. 1). The thickness of the units are provided in meters on the figure while the ages of the boundaries between the formations are shown to the righthand side of the figure."
   ]
  },
  {
   "cell_type": "code",
   "execution_count": null,
   "metadata": {
    "tags": []
   },
   "outputs": [],
   "source": [
    "age = []\n",
    "cumulative_thickness = []"
   ]
  },
  {
   "cell_type": "code",
   "execution_count": null,
   "metadata": {
    "tags": []
   },
   "outputs": [],
   "source": [
    "plt.plot(age,cumulative_thickness)\n",
    "plt.xlabel('Age (Ma)',fontsize=12)\n",
    "plt.ylabel('Depth (m)',fontsize=12)\n",
    "plt.gca().invert_xaxis()\n",
    "plt.gca().invert_yaxis()\n",
    "plt.show()"
   ]
  },
  {
   "cell_type": "markdown",
   "metadata": {},
   "source": [
    "### Teaching moment : Thermal Subsidence and Isostacy"
   ]
  },
  {
   "cell_type": "markdown",
   "metadata": {},
   "source": [
    "If we assume that the crust is isostatically compensated, then elevation is related to the density of the rocks in a vertical slice of the earth. Average crustal and subcrustal (i.e., mantle lithosphere) densities depend on temperature:\n",
    "\n",
    "\\begin{equation}\n",
    "\\rho_c = \\rho_{c}^{*} (1-\\alpha_{v} T_{c})\n",
    "\\end{equation}\n",
    "\n",
    "\\begin{equation}\n",
    "\\rho_{sc} = \\rho_m^{*} (1-\\alpha_{v} (T_{sc} - T_{m})\n",
    "\\end{equation}\n",
    "\n",
    "\\begin{equation}\n",
    "\\rho_{m} = \\rho_m^{*}\n",
    "\\end{equation}\n",
    "\n",
    "Because geotherms are close to linear:\n",
    "\\begin{equation}\n",
    "T_c = \\frac{(T_m-T_0)}{2} \\frac{y_c}{y_L}\n",
    "\\end{equation}\n",
    "\n",
    "\\begin{equation}\n",
    "T_{sc} = \\frac{1}{2} (T_m + \\frac{y_c}{y_L} (T_m-T_0)\n",
    "\\end{equation}\n",
    "\n",
    "<img src=\"temp_grad.png\">\n",
    "\n"
   ]
  },
  {
   "cell_type": "markdown",
   "metadata": {},
   "source": [
    "Here is one example of an isostatic balance equation:\n",
    "\n",
    "\\begin{equation}\n",
    "\\rho_c y_c + \\rho_{sc} (y_L - y_c) = \\rho_{s} y_{sr} + \\rho_c \\frac{y_c}{\\beta} + \\rho_{sc} (\\frac{y_L}{\\beta} -  \\frac{y_c}{\\beta}) + \\rho_m (y_L - \\frac{y_L}{\\beta} - y_{sr})\n",
    "\\end{equation}\n",
    "\n",
    "based on this stretched lithosphere:\n",
    "\n",
    "<img src=\"rift.png\">\n",
    "\n",
    "where $y_{s}$ is the thickness of syn-rift sediment and $\\beta = \\frac{original\\ thickness}{new\\ thickness}$.  Rearranging terms,\n",
    "\\begin{equation}\n",
    "y_{s} = \\frac{(1 - \\frac{1}{\\beta})}{\\rho_m - \\rho_s} \\Big( \\rho_m y_L - \\rho_c y_c - \\rho_{sc}(y_L - y_c) \\Big)\n",
    "\\end{equation}\n",
    "\n",
    "We can also rewrite this equation in terms of $\\beta$, so that we can determine $\\beta$ given observed sediment thickness and lithospheric parameters:\n",
    "\n",
    "\\begin{equation}\n",
    "\\beta = \\frac{\\rho_c y_c + \\rho_{sc} (y_L-y_c) - \\rho_m y_L}{- \\rho_{s}y_{s} + \\rho_c y_c + \\rho_{sc} (y_L-y_c) + \\rho_m (y_{sr}-y_L)}\n",
    "\\end{equation}\n",
    "\n",
    "The thermal diffusion time of the lithosphere, of the form $t = L^2 / 4 \\kappa$, is:\n",
    "\\begin{equation}\n",
    "\\tau = \\frac{y_L^2}{\\pi^2 \\kappa}\n",
    "\\end{equation}\n",
    "\n",
    "The subsidence caused by the thermal contraction as a function of time is:\n",
    "\\begin{equation}\n",
    "S(t) \\approx E_0\\frac{\\beta}{\\pi}sin(\\frac{\\pi}{\\beta})(1-e^{\\frac{-t}{\\tau}}) \n",
    "\\end{equation}\n",
    "\n",
    "where:\n",
    "\n",
    "\\begin{equation}\n",
    "E_0 = \\frac{4y_L\\rho_m^{\\ast}\\alpha_v T_m}{\\pi^2(\\rho_m^{\\ast}-\\rho_{s})}\n",
    "\\end{equation}\n",
    "\n",
    "In reality, the thickness of sediment accumulated per unit time during the thermal subsidence phase also depends on global sea level variability and on the increase in subsidence due to sediment loading (after taking sediment compaction into account). However, we will use the above approximation of subsidence for our calculations below as it will work well."
   ]
  },
  {
   "cell_type": "markdown",
   "metadata": {},
   "source": [
    "**Some necessary constants**"
   ]
  },
  {
   "cell_type": "markdown",
   "metadata": {},
   "source": [
    "| Constant | Value |\n",
    "|----------|-------|\n",
    "|Density of the continental crust at 0$^{\\circ}$C ($\\rho_{c}^{*}$) | 2800 kg m$^{-3}$ |\n",
    "|Density of the mantle at 1300$^{\\circ}$C ($\\rho_{m}^{*}$) | 3300 kg m$^{-3}$ |\n",
    "|Average Density of newly deposited carbonate and shale ($\\rho_{s}$)| 2500 kg m$^{-3}$ |\n",
    "|Thickness of unstretched continental crust ($y_{c}$)| 30 km |\n",
    "|Thickness of unstretched continental lithosphere ($y_{L}$)| 120 km |\n",
    "|Thickness of syn-rift sediments ($y_{sr}$) | *Questions 1 and 2* |\n",
    "|Thickness of thermal subsidence sediments ($y_{st}$) | *Questions 1 and 2* |\n",
    "|Thickness of foreland flexure sediments ($y_{sf}$) | *Questions 1 and 5* | \n",
    "|Temperature at the surface of the Earth ($T_{0}$) | 0$^{\\circ}$C|\n",
    "|Temperature in the mantle at the base of the Lithosphere ($T_{m}$) | 1300$^{\\circ}$C |\n",
    "|Stretching factor ($\\beta$) | *Questions 3* |\n",
    "|Thermal conductivity ($k$) | 3 W m$^{-1}$$^{\\circ}$C$^{-1}$ |\n",
    "|Thermal diffusivity ($\\kappa$) | 10$^{-6}$ m$^2$s$^{-1}$ |\n",
    "|Heat capacity ($C$) | 1000 J kg$^{-1}$$^{\\circ}$C$^{-1}$ |\n",
    "|Volumetric coefficient of thermal expansion ($\\alpha_v$) | 3.28$\\times 10^{-5}$$^{\\circ}$C$^{-1}$ |\n",
    "|Young's Modulus for Appalachian Lithosphere ($E$) | 0.6$\\times$10$^{11}$ Pa|\n",
    "|Poisson's Ratio for Appalachian Lithosphere ($\\nu$) | 0.15 |"
   ]
  },
  {
   "cell_type": "code",
   "execution_count": null,
   "metadata": {
    "tags": []
   },
   "outputs": [],
   "source": [
    "# these constants are taken from the table above\n",
    "density_mantle = 3300 #kg/m**3\n",
    "thermal_expansion = 3.28e-5 #1/C\n",
    "temperature_mantle = 1300 #C\n",
    "density_sediment = 2500 #kg/m**3\n",
    "lithosphere_thickness = 120000 #m\n",
    "thermal_diffusivity = 1e-6 #m**2/s"
   ]
  },
  {
   "cell_type": "markdown",
   "metadata": {},
   "source": [
    "### Question 3"
   ]
  },
  {
   "cell_type": "markdown",
   "metadata": {},
   "source": [
    "With data from Table 1 and the relevant equations ($S(t)$, $\\tau$ and $E_0$), model the thermal subsidence profile for the basin that would result with different values of $\\beta$. You will need to use your conclusion from Question 1 to constrain the timing of the transition from rift to thermal subsidence. You may assume that all of the sediments accumulated in relatively shallow water ($<$ 50 m) and that global sea level variations were small. Overlay your plot of the data from above on a plot with a number of different subsidence profiles, and determine a value of $\\beta$ that best describe the thermal subsidence stratigraphy of the Appalachians."
   ]
  },
  {
   "cell_type": "code",
   "execution_count": null,
   "metadata": {
    "tags": []
   },
   "outputs": [],
   "source": [
    "ages_Ma = np.linspace (510,440) #generate a list of ages in millions of years\n",
    "ages_s = ages_Ma * 3.154e7 * 1e6 #convert this list of ages to seconds"
   ]
  },
  {
   "cell_type": "code",
   "execution_count": null,
   "metadata": {
    "tags": []
   },
   "outputs": [],
   "source": [
    "def thermal_subsidence(time, beta):\n",
    "    \"\"\"\n",
    "    Calculates the subsidence for a thermally subsiding basin after a given\n",
    "    time given a stretching factor\n",
    "    \n",
    "    Inputs\n",
    "    ------\n",
    "    time: time in seconds\n",
    "    beta: stretching factor\n",
    "    \n",
    "    Returns\n",
    "    ------\n",
    "    subsidence: amount of subsidence in meters\n",
    "    \"\"\"\n",
    "    \n",
    "    #For pi use np.pi and for e use np.e\n",
    "    \n",
    "    E0 = \n",
    "    tau = \n",
    "    subsidence = \n",
    "    \n",
    "    return subsidence"
   ]
  },
  {
   "cell_type": "code",
   "execution_count": null,
   "metadata": {
    "tags": []
   },
   "outputs": [],
   "source": [
    "##Calculate subsidence versus time for a range of betas.\n",
    "Subsidence_beta_1_1 = thermal_subsidence(ages_s, 1.1)\n",
    "Subsidence_beta_1_2 = thermal_subsidence(ages_s, )\n",
    "Subsidence_beta_1_3 = thermal_subsidence(ages_s, )\n",
    "Subsidence_beta_1_4 = thermal_subsidence(ages_s, )\n",
    "Subsidence_beta_1_5 = thermal_subsidence(ages_s, )"
   ]
  },
  {
   "cell_type": "code",
   "execution_count": null,
   "metadata": {
    "tags": []
   },
   "outputs": [],
   "source": [
    "## Plot thermal subsidence curves for different beta values along with the data from Question 1\n",
    "plt.plot(ages_Ma, Subsidence_beta_1_1)\n",
    "plt.plot()\n",
    "plt.plot()\n",
    "plt.plot()\n",
    "plt.plot()\n",
    "\n",
    "plt.plot (age, cumulative_thickness, color = 'k', linewidth=3, label='Appalachian Basin')\n",
    "\n",
    "plt.xlabel('Age (Ma)',fontsize=12)\n",
    "plt.ylabel('Depth (m)',fontsize=12)\n",
    "plt.gca().invert_xaxis()\n",
    "plt.gca().invert_yaxis()\n",
    "plt.legend(loc=3)\n",
    "plt.show()"
   ]
  },
  {
   "cell_type": "markdown",
   "metadata": {},
   "source": [
    "### Question 4"
   ]
  },
  {
   "cell_type": "markdown",
   "metadata": {},
   "source": [
    "What value for the stretching factor ($\\beta$) best matches the Appalachian Basin cross section? Over what time interval is the basin subsidence history well-described by simple thermal subsidence? "
   ]
  },
  {
   "cell_type": "markdown",
   "metadata": {},
   "source": [
    "*your answer here*"
   ]
  }
 ],
 "metadata": {
  "kernelspec": {
   "display_name": "Python 3",
   "language": "python",
   "name": "python3"
  },
  "language_info": {
   "codemirror_mode": {
    "name": "ipython",
    "version": 3
   },
   "file_extension": ".py",
   "mimetype": "text/x-python",
   "name": "python",
   "nbconvert_exporter": "python",
   "pygments_lexer": "ipython3",
   "version": "3.7.6"
  },
  "nav_menu": {},
  "toc": {
   "navigate_menu": true,
   "number_sections": true,
   "sideBar": true,
   "threshold": 6,
   "toc_cell": false,
   "toc_section_display": "block",
   "toc_window_display": false
  }
 },
 "nbformat": 4,
 "nbformat_minor": 4
}
