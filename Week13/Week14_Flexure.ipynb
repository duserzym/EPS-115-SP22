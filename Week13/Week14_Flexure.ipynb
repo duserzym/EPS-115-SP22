{
 "cells": [
  {
   "cell_type": "markdown",
   "id": "1a78769f-f586-4be7-af24-5f4613145d54",
   "metadata": {},
   "source": [
    "# Problem set Week 14: Basin development continued - Flexure"
   ]
  },
  {
   "cell_type": "markdown",
   "id": "4486a19f-c23c-4c46-b172-029baffe9aa8",
   "metadata": {},
   "source": [
    "<img src=\"Appal.jpg\">"
   ]
  },
  {
   "cell_type": "markdown",
   "id": "a039be26-6b86-466a-849f-9b7cd64ca46b",
   "metadata": {},
   "source": [
    "The Appalachian orogen is an excellent example of a continental margin that has undergone\n",
    "multiple basin development phases. These basin phases are: rift-related normal faulting, post-rift thermal subsidence, and compression-related flexural deformation and subsidence. Erosion over the past 250 Myr has denuded the Paleozoic basin-orogenic system.\n",
    "\n",
    "The creation of accommodation space over large length-scales is dominated by three processes:\n",
    "\n",
    "1. Extensional fault-controlled subsidence which is dependent on the initial thickness and\n",
    "density of the crust and lithosphere, the lithospheric geotherm, and the amount of\n",
    "uniform stretching, $\\beta$. This isostatic subsidence may occur on timescales of 10$^{5}$ yr.\n",
    "\n",
    "2. Thermal subsidence occurs when lithospheric thinning leads to upwelling of the asthenosphere\n",
    "and heating of the lithosphere, and these materials cool conductively as\n",
    "the lithospheric geotherm relaxes to the pre-stretching condition. Thermal subsidence\n",
    "depends critically on the amount of stretching, $\\beta$. Thermal subsidence rates decrease\n",
    "exponentially as heat flow decreases. For standard lithosphere, heat flow reaches $\\frac{1}{e}$ of its original value after $\\tau \\approx$ 50 Myr.\n",
    "\n",
    "3. Compression during orogenesis may lead to crustal shortening. Excess masses supported\n",
    "elastically by the lithosphere generate peripheral zones of accommodation space\n",
    "where the lithosphere is flexed downward."
   ]
  },
  {
   "cell_type": "markdown",
   "id": "84b3640f-c56a-4c9f-8e1a-1342208af381",
   "metadata": {},
   "source": [
    "<img src=\"appalachians_xsection_updated.png\">"
   ]
  },
  {
   "cell_type": "code",
   "execution_count": null,
   "id": "f960bcc0-7824-494a-a5a3-23da8a87494e",
   "metadata": {
    "tags": []
   },
   "outputs": [],
   "source": [
    "import numpy as np\n",
    "import matplotlib.pyplot as plt"
   ]
  },
  {
   "cell_type": "markdown",
   "id": "4b363327-43f1-437e-b2d6-13a2991e42d9",
   "metadata": {},
   "source": [
    "### Teaching moment : Flexure"
   ]
  },
  {
   "cell_type": "markdown",
   "id": "58710053-8182-47fc-9d82-aa6958651354",
   "metadata": {},
   "source": [
    "When an applied load $q(x)$, flexes a plate of thickness $y_L$, the region that is deflected by an amount, $w$, over a length scale, $x$, under the influence of horizontal forces, $P$, is filled with water or sediment, and this infilling material is less dense than the mantle it is displacing.  The density difference is $\\Delta \\rho$.  The magnitude of the restoring force on the base of the deflected plate is $\\Delta \\rho g w$.  The general flexural equation can be written:\n",
    "\\begin{equation}\n",
    "D\\frac{d^4w}{dx^4} + P\\frac{d^2}{dx^2w} + \\Delta \\rho g w= q_a(x),\n",
    "\\end{equation}\n",
    "In general, the wavelength of the flexure depends on the flexural rigidity of the lithosphere, while the maximum deflection is dependent on the flexural rigidity and the magnitude of the applied load.\n",
    "\n",
    "If the maximum deflection, $w_0$ for a broken plate loaded at its end is known, we have the relationship for $w(x)$:\n",
    "\\begin{equation}\n",
    "w = w_0 e^{-x/\\alpha}\\cos{\\frac{x}{\\alpha}}\n",
    "\\end{equation}\n",
    "where:\n",
    "\\begin{equation}\n",
    "\\alpha = \\Big( \\frac{4 D}{\\Delta \\rho g} \\Big)^{1/4}\n",
    "\\end{equation}\n",
    "and flexural rigidity (D) is:\n",
    "\\begin{equation}\n",
    "D= \\frac{E h^3}{12 (1 - \\nu^2)}\n",
    "\\end{equation} \n",
    "Where $h$ is the thickness of the plates, $E$ is Young's modulus and $\\nu$ is Poisson's ratio. \n",
    "\n",
    "Then, the half width of the basin at $w = 0$ is:\n",
    "\\begin{equation}\n",
    "x_0 = \\frac{\\pi \\alpha}{2}\n",
    "\\end{equation}\n",
    "so the basin is narrower for the case of a broken plate.  The distance to the crest of the forebulge ($dw/dx = 0$) is:\n",
    "\\begin{equation}\n",
    "x_b = \\frac{3 \\pi \\alpha}{4}\n",
    "\\end{equation}\n",
    "Finally, the height of the forebulge (where $x_b = 3\\pi\\alpha/4$) is:\n",
    "\\begin{equation}\n",
    "w_b = w_0 e^{-3\\pi/4}\\cos{\\frac{3\\pi}{4}} = -0.0670w_0\n",
    "\\end{equation}"
   ]
  },
  {
   "cell_type": "markdown",
   "id": "68fea1a0-1ea8-4ea1-bbc4-aceb4dddb831",
   "metadata": {},
   "source": [
    "### Question 5"
   ]
  },
  {
   "cell_type": "markdown",
   "id": "69108ff8-ba0c-4e74-a797-eda1adba893e",
   "metadata": {},
   "source": [
    "Using Figure 1, construct a table and accompanying plot with distance eastward increasing to the right on the x-axis, and accumulated thickness of sediment increasing downward on the y-axis, for post-thermal subsidence sedimentary rocks.\n",
    "\n",
    "Plot thickness data for each Group/Formation individually, as well as for the total thickness of post thermal subsidence sediment."
   ]
  },
  {
   "cell_type": "code",
   "execution_count": null,
   "id": "62cbeb47-154c-4152-9530-3534c8e1c73e",
   "metadata": {},
   "outputs": [],
   "source": [
    "distance_east        = []\n",
    "trenton_thickness    = []\n",
    "utica_thickness      = []\n",
    "reedsville_thickness = []\n",
    "clinton_thickness    = []\n",
    "total_thickness      = []                  "
   ]
  },
  {
   "cell_type": "code",
   "execution_count": null,
   "id": "ba785350-6f08-4943-968a-cf2a5e3be4a4",
   "metadata": {},
   "outputs": [],
   "source": [
    "#Plot thickness data for each Group/Formation individually, as well as for the total \n",
    "#thickness of post thermal subsidence sediment.\n",
    "plt.plot()\n",
    "\n",
    "plt.xlabel('Distance eastward (km)',fontsize=12)\n",
    "plt.ylabel('Accumulated sediment (m)',fontsize=12)\n",
    "\n",
    "plt.gca().invert_yaxis()\n",
    "plt.legend(loc=3)\n",
    "plt.show()"
   ]
  },
  {
   "cell_type": "markdown",
   "id": "11a008cd-2ff9-4759-83c2-5b4efaa4871c",
   "metadata": {},
   "source": [
    "## Question 6"
   ]
  },
  {
   "cell_type": "markdown",
   "id": "c3852b1d-0dfc-451f-8e9a-760b0c2ef0cd",
   "metadata": {},
   "source": [
    "Describe the pattern of post-thermal subsidence sediment accumulation. Then, in two to\n",
    "three sentences, propose a hypothesis for the origin of the Black River - Clinton Basin, and\n",
    "for the top-Newala erosional unconformity and depositional hiatus."
   ]
  },
  {
   "cell_type": "markdown",
   "id": "ac86fb58-60ec-43b4-95db-6863c14a90d3",
   "metadata": {},
   "source": [
    "*Your answer*"
   ]
  },
  {
   "cell_type": "markdown",
   "id": "d210f2d0-ac52-46d1-b202-745f34dfd4f2",
   "metadata": {},
   "source": [
    "## Question 7"
   ]
  },
  {
   "cell_type": "markdown",
   "id": "0c741d0e-3d3a-4a1f-9fdf-66e95a31561d",
   "metadata": {},
   "source": [
    "With the relevant equations provided above, model the shape of the Black River-Clinton basin, and overlay your model results on the Figure you generated in Question 5.\n",
    "\n",
    "• For $h$, be sure to use the appropriate value for the post-rift thinned lithosphere using your best fit beta value ($\\frac{y_L}{\\beta}$).\n",
    "\n",
    "• Assume that the maximum deflection is w$_{o}$ = 3000 and that **w$_{o}$ occurs 120 km to the\n",
    "east of G’ at the Taconic orogenic front (i.e., x=0 occurs at 540 km on Fig. 1 which is off of the figure).**"
   ]
  },
  {
   "cell_type": "code",
   "execution_count": null,
   "id": "663fd49a-2d50-4c2b-b2a8-a704c3686229",
   "metadata": {},
   "outputs": [],
   "source": [
    "# these constants are taken from the table above\n",
    "youngs_modulus = 6.00E+10 #Pa\n",
    "poisson_ratio = 0.15 \n",
    "distance_km = np.arange(0, 540) # km\n",
    "distance_m = distance_km * 1000 # m\n",
    "acceleration_gravity = 9.81 #m/s2\n",
    "\n",
    "#Fill in your answer using the beta you determined in Question 4\n",
    "thinned_lithosphere = "
   ]
  },
  {
   "cell_type": "code",
   "execution_count": null,
   "id": "ab67175f-f140-414b-a5a7-0ffed11b917b",
   "metadata": {},
   "outputs": [],
   "source": [
    "def deflection(distance, w0):\n",
    "    \"\"\"\n",
    "    Calculate elevation as a function of distance in meters and maximum deflection (w0) also in meters.\n",
    "    \n",
    "    \n",
    "    Inputs\n",
    "    ------\n",
    "\n",
    "    \n",
    "    Returns\n",
    "    ------\n",
    "\n",
    "    \"\"\"\n",
    "    \n",
    "    #For pi use np.pi, for cosine use np.cos, and for e use np.e\n",
    "    \n",
    "    density_difference = density_mantle - density_sediment\n",
    "    \n",
    "    D = \n",
    "    \n",
    "    alpha = \n",
    "\n",
    "    deflection = \n",
    "        \n",
    "    return deflection"
   ]
  },
  {
   "cell_type": "code",
   "execution_count": null,
   "id": "97a8e843-3dce-4c98-924f-c6ed1d8c3b6f",
   "metadata": {},
   "outputs": [],
   "source": [
    "##Plot data and flexural model. \n",
    "\n",
    "plt.plot()\n",
    "\n",
    "plt.xlabel('Distance eastward (km)',fontsize=12)\n",
    "plt.ylabel('Accumulated sediment (m)',fontsize=12)\n",
    "plt.axis([0,420,2500,0])\n",
    "plt.legend(loc=3)\n",
    "plt.show()"
   ]
  },
  {
   "cell_type": "markdown",
   "id": "451d7647-fb58-488c-bbba-a276ac527db4",
   "metadata": {},
   "source": [
    "## Question 8"
   ]
  },
  {
   "cell_type": "markdown",
   "id": "d2166b49-d398-465b-87cf-8385d1b427f9",
   "metadata": {},
   "source": [
    "How does the shape of your model curve compare to the curve of total accumulated post thermal-subsidence sediment? Does your model predict the correct location of the forebulge?"
   ]
  },
  {
   "cell_type": "markdown",
   "id": "0e47525a-6564-4fa4-a4a9-51c7dda0e46c",
   "metadata": {},
   "source": [
    "*your answer here*"
   ]
  },
  {
   "cell_type": "markdown",
   "id": "7dcf3008-38f5-45f1-861b-55413e415c98",
   "metadata": {},
   "source": [
    "## Question 9"
   ]
  },
  {
   "cell_type": "markdown",
   "id": "7c170b2b-cfef-49d8-b4d6-5a310f4e3e10",
   "metadata": {},
   "source": [
    "How do the model sediment thicknesses compare to the curve for total sediment thickness\n",
    "that you generated in Question 5? Does applying a uniform depth translation (constant at\n",
    "all x positions) of the model curve allow a better fit to the data? If so, plot this translated subsidence profile below. What do you think a\n",
    "physical explanation explanation of this translation might be?"
   ]
  },
  {
   "cell_type": "markdown",
   "id": "07c8aa97-94e4-4e9f-b672-27f94ff6020c",
   "metadata": {},
   "source": [
    "*your answer here*"
   ]
  },
  {
   "cell_type": "code",
   "execution_count": null,
   "id": "2a9563a9-5c3e-4683-9809-d155202b70f9",
   "metadata": {},
   "outputs": [],
   "source": [
    "##Plot data and flexural model. \n",
    "\n",
    "plt.plot()\n",
    "\n",
    "plt.xlabel('Distance eastward (km)',fontsize=12)\n",
    "plt.ylabel('Accumulated sediment (m)',fontsize=12)\n",
    "plt.axis([0,420,2500,0])\n",
    "plt.legend(loc=3)\n",
    "plt.show()"
   ]
  }
 ],
 "metadata": {
  "kernelspec": {
   "display_name": "Python 3",
   "language": "python",
   "name": "python3"
  },
  "language_info": {
   "codemirror_mode": {
    "name": "ipython",
    "version": 3
   },
   "file_extension": ".py",
   "mimetype": "text/x-python",
   "name": "python",
   "nbconvert_exporter": "python",
   "pygments_lexer": "ipython3",
   "version": "3.7.6"
  }
 },
 "nbformat": 4,
 "nbformat_minor": 5
}
